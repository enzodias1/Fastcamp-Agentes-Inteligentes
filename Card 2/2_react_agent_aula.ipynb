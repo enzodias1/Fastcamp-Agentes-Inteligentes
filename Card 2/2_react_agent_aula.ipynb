{
  "nbformat": 4,
  "nbformat_minor": 0,
  "metadata": {
    "colab": {
      "provenance": []
    },
    "kernelspec": {
      "name": "python3",
      "display_name": "Python 3"
    },
    "language_info": {
      "name": "python"
    }
  },
  "cells": [
    {
      "cell_type": "markdown",
      "source": [
        "Instalação e importações necessárias"
      ],
      "metadata": {
        "id": "liMl82dZEUFh"
      }
    },
    {
      "cell_type": "code",
      "source": [
        "%pip install groq"
      ],
      "metadata": {
        "colab": {
          "base_uri": "https://localhost:8080/"
        },
        "id": "fsfHlc4Nlx5C",
        "outputId": "de27496c-d4c6-4777-ba15-faddeeba94e9"
      },
      "execution_count": 1,
      "outputs": [
        {
          "output_type": "stream",
          "name": "stdout",
          "text": [
            "Collecting groq\n",
            "  Downloading groq-0.18.0-py3-none-any.whl.metadata (14 kB)\n",
            "Requirement already satisfied: anyio<5,>=3.5.0 in /usr/local/lib/python3.11/dist-packages (from groq) (3.7.1)\n",
            "Requirement already satisfied: distro<2,>=1.7.0 in /usr/local/lib/python3.11/dist-packages (from groq) (1.9.0)\n",
            "Requirement already satisfied: httpx<1,>=0.23.0 in /usr/local/lib/python3.11/dist-packages (from groq) (0.28.1)\n",
            "Requirement already satisfied: pydantic<3,>=1.9.0 in /usr/local/lib/python3.11/dist-packages (from groq) (2.10.6)\n",
            "Requirement already satisfied: sniffio in /usr/local/lib/python3.11/dist-packages (from groq) (1.3.1)\n",
            "Requirement already satisfied: typing-extensions<5,>=4.10 in /usr/local/lib/python3.11/dist-packages (from groq) (4.12.2)\n",
            "Requirement already satisfied: idna>=2.8 in /usr/local/lib/python3.11/dist-packages (from anyio<5,>=3.5.0->groq) (3.10)\n",
            "Requirement already satisfied: certifi in /usr/local/lib/python3.11/dist-packages (from httpx<1,>=0.23.0->groq) (2025.1.31)\n",
            "Requirement already satisfied: httpcore==1.* in /usr/local/lib/python3.11/dist-packages (from httpx<1,>=0.23.0->groq) (1.0.7)\n",
            "Requirement already satisfied: h11<0.15,>=0.13 in /usr/local/lib/python3.11/dist-packages (from httpcore==1.*->httpx<1,>=0.23.0->groq) (0.14.0)\n",
            "Requirement already satisfied: annotated-types>=0.6.0 in /usr/local/lib/python3.11/dist-packages (from pydantic<3,>=1.9.0->groq) (0.7.0)\n",
            "Requirement already satisfied: pydantic-core==2.27.2 in /usr/local/lib/python3.11/dist-packages (from pydantic<3,>=1.9.0->groq) (2.27.2)\n",
            "Downloading groq-0.18.0-py3-none-any.whl (121 kB)\n",
            "\u001b[?25l   \u001b[90m━━━━━━━━━━━━━━━━━━━━━━━━━━━━━━━━━━━━━━━━\u001b[0m \u001b[32m0.0/121.9 kB\u001b[0m \u001b[31m?\u001b[0m eta \u001b[36m-:--:--\u001b[0m\r\u001b[2K   \u001b[90m━━━━━━━━━━━━━━━━━━━━━━━━━━━━━━━━━━━━━━━━\u001b[0m \u001b[32m121.9/121.9 kB\u001b[0m \u001b[31m3.5 MB/s\u001b[0m eta \u001b[36m0:00:00\u001b[0m\n",
            "\u001b[?25hInstalling collected packages: groq\n",
            "Successfully installed groq-0.18.0\n"
          ]
        }
      ]
    },
    {
      "cell_type": "code",
      "execution_count": 2,
      "metadata": {
        "id": "64nOnNxSpTIh"
      },
      "outputs": [],
      "source": [
        "import os\n",
        "os.environ['GROQ_API_KEY'] = \"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\""
      ]
    },
    {
      "cell_type": "markdown",
      "source": [
        "Testando o funcionamento da API do Groq"
      ],
      "metadata": {
        "id": "-9I2pnqqEkLI"
      }
    },
    {
      "cell_type": "code",
      "source": [
        "import os\n",
        "from groq import Groq\n",
        "\n",
        "client = Groq(\n",
        "    api_key=os.environ.get(\"GROQ_API_KEY\"),\n",
        ")\n",
        "\n",
        "chat_completion = client.chat.completions.create(\n",
        "    messages=[\n",
        "        {\n",
        "            \"role\": \"user\",\n",
        "            \"content\": \"Explain the importance of fast language models\",\n",
        "        }\n",
        "    ],\n",
        "    model=\"llama3-70b-8192\",\n",
        ")\n",
        "\n",
        "print(chat_completion.choices[0].message.content)"
      ],
      "metadata": {
        "colab": {
          "base_uri": "https://localhost:8080/"
        },
        "id": "8mKxn285meZe",
        "outputId": "96e73b2e-2076-4146-e090-a16879eaa0ef"
      },
      "execution_count": 6,
      "outputs": [
        {
          "output_type": "stream",
          "name": "stdout",
          "text": [
            "Fast language models are crucial in various applications, offering numerous benefits that impact performance, efficiency, and user experience. Here are some reasons why fast language models are important:\n",
            "\n",
            "1. **Real-time Interactions**: Fast language models enable real-time interactions in applications like virtual assistants, chatbots, and voice assistants. They can respond quickly to user queries, ensuring a seamless and engaging experience.\n",
            "2. **Low Latency**: Fast language models reduce latency, which is critical in applications where timely responses are essential, such as in customer service, healthcare, or finance.\n",
            "3. **Scalability**: Fast language models can handle a large volume of requests, making them suitable for large-scale applications, such as social media platforms, online forums, or language translation services.\n",
            "4. **Energy Efficiency**: Fast language models can run on resource-constrained devices, such as smartphones or embedded systems, reducing energy consumption and prolonging battery life.\n",
            "5. **Improved User Experience**: Fast language models can process and respond to user input quickly, minimizing the time spent waiting for responses. This leads to a more engaging and interactive user experience.\n",
            "6. **Enhanced Accessibility**: Fast language models can be used to develop assistive technologies, such as speech-to-text systems, language translation, and text-to-speech systems, which can greatly benefit individuals with disabilities.\n",
            "7. **Increased Productivity**: Fast language models can automate tasks, such as data entry, summarization, and content generation, freeing up time for more strategic and creative work.\n",
            "8. **Competitive Advantage**: In applications like customer service, fast language models can provide a competitive advantage by enabling faster response times, leading to higher customer satisfaction and loyalty.\n",
            "9. **Research and Development**: Fast language models can accelerate research in natural language processing (NLP) and other fields, as they enable faster experimentation, prototyping, and testing of new ideas.\n",
            "10. **Cost Savings**: Fast language models can reduce infrastructure costs by minimizing the need for powerful hardware, reducing the costs associated with energy consumption, and increasing the efficiency of computing resources.\n",
            "11. **Enhanced Security**: Fast language models can be used to detect and respond to security threats, such as malware or phishing attacks, in real-time, improving overall system security.\n",
            "12. **Personalization**: Fast language models can enable personalized experiences, such as tailored content recommendations, by processing large amounts of user data quickly and efficiently.\n",
            "\n",
            "In summary, fast language models are essential for building efficient, scalable, and responsive applications that can process and respond to vast amounts of data in real-time. They have a significant impact on user experience, productivity, and competitiveness, making them a crucial component of many industries, including but not limited to:\n",
            "\n",
            "* Virtual assistants and chatbots\n",
            "* Language translation and localization\n",
            "* Sentiment analysis and opinion mining\n",
            "* Text classification and categorization\n",
            "* Speech recognition and synthesis\n",
            "* Content generation and summarization\n",
            "* Customer service and support\n",
            "* Healthcare and medical research\n",
            "* Finance and banking\n",
            "* Education and learning\n"
          ]
        }
      ]
    },
    {
      "cell_type": "markdown",
      "source": [
        "Criando a classe Agente"
      ],
      "metadata": {
        "id": "1MKwLt4YEuwV"
      }
    },
    {
      "cell_type": "markdown",
      "source": [
        "o método init recebe uma instância da API (cliente) e uma mensagem de sistema opcional, depois armazena ambos como atributos e cria uma lista para armazenar o histórico de mensagens\n",
        "\n",
        "o método call recebe uma mensagem do usuário e adiciona ao histórico, chamando o método execute para obter uma resposta e, adiciona a resposta ao histórico de mensagem, retornando ela\n",
        "\n",
        "por fim, o método execute envia o histórico de mensagens pra API do modelo, além de extrair e retornar o conteúdo da resposta gerada"
      ],
      "metadata": {
        "id": "VlhEqCuCMgwm"
      }
    },
    {
      "cell_type": "code",
      "source": [
        "class Agent:\n",
        "    def __init__(self, client: Groq, system: str = \"\") -> None:\n",
        "        self.client = client\n",
        "        self.system = system\n",
        "        self.messages: list = []\n",
        "        if self.system:\n",
        "            self.messages.append({\"role\": \"system\", \"content\": system})\n",
        "\n",
        "    def __call__(self, message=\"\"):\n",
        "        if message:\n",
        "            self.messages.append({\"role\": \"user\", \"content\": message})\n",
        "        result = self.execute()\n",
        "        self.messages.append({\"role\": \"assistant\", \"content\": result})\n",
        "        return result\n",
        "\n",
        "    def execute(self):\n",
        "        completion = client.chat.completions.create(\n",
        "            model=\"llama3-70b-8192\", messages=self.messages\n",
        "        )\n",
        "        return completion.choices[0].message.content"
      ],
      "metadata": {
        "id": "O3Zl2rqgv-0Q"
      },
      "execution_count": 7,
      "outputs": []
    },
    {
      "cell_type": "markdown",
      "source": [
        "Definindo o Prompt"
      ],
      "metadata": {
        "id": "OVOHOv71NsO6"
      }
    },
    {
      "cell_type": "markdown",
      "source": [
        "vai definir o formato de interação do agente, estabelecendo um loop e descrevendo as duas funções disponíveis, a calculate para cálcuos matemáticos e get_planet_mass para obter a massa de um planeta"
      ],
      "metadata": {
        "id": "wAMHLMs9OTB7"
      }
    },
    {
      "cell_type": "code",
      "source": [
        "system_prompt = \"\"\"\n",
        "You run in a loop of Thought, Action, PAUSE, Observation.\n",
        "At the end of the loop you output an Answer\n",
        "Use Thought to describe your thoughts about the question you have been asked.\n",
        "Use Action to run one of the actions available to you - then return PAUSE.\n",
        "Observation will be the result of running those actions.\n",
        "\n",
        "Your available actions are:\n",
        "\n",
        "calculate:\n",
        "e.g. calculate: 4 * 7 / 3\n",
        "Runs a calculation and returns the number - uses Python so be sure to use floating point syntax if necessary\n",
        "\n",
        "get_planet_mass:\n",
        "e.g. get_planet_mass: Earth\n",
        "returns weight of the planet in kg\n",
        "\n",
        "Example session:\n",
        "\n",
        "Question: What is the mass of Earth times 2?\n",
        "Thought: I need to find the mass of Earth\n",
        "Action: get_planet_mass: Earth\n",
        "PAUSE\n",
        "\n",
        "You will be called again with this:\n",
        "\n",
        "Observation: 5.972e24\n",
        "\n",
        "Thought: I need to multiply this by 2\n",
        "Action: calculate: 5.972e24 * 2\n",
        "PAUSE\n",
        "\n",
        "You will be called again with this:\n",
        "\n",
        "Observation: 1,1944×10e25\n",
        "\n",
        "If you have the answer, output it as the Answer.\n",
        "\n",
        "Answer: The mass of Earth times 2 is 1,1944×10e25.\n",
        "\n",
        "Now it's your turn:\n",
        "\"\"\".strip()"
      ],
      "metadata": {
        "id": "uWjHjbieyuST"
      },
      "execution_count": 8,
      "outputs": []
    },
    {
      "cell_type": "markdown",
      "source": [
        "Definindo as funções do Agente"
      ],
      "metadata": {
        "id": "iWz6prGNP9Dd"
      }
    },
    {
      "cell_type": "markdown",
      "source": [
        "a calculte receberá uma string de uma operação matemática e através da função e val vai retornar o resultado\n",
        "\n",
        "já a get_planet_mass receberá o nome de um planeta como entrada e retornar a sua massa em kg, mas através de notação científica"
      ],
      "metadata": {
        "id": "OBSHO5SiQdLo"
      }
    },
    {
      "cell_type": "code",
      "source": [
        "def calculate(operation: str) -> float:\n",
        "    return eval(operation)\n",
        "\n",
        "\n",
        "def get_planet_mass(planet) -> float:\n",
        "    match planet.lower():\n",
        "        case \"earth\":\n",
        "            return 5.972e24\n",
        "        case \"jupiter\":\n",
        "            return 1.898e27\n",
        "        case \"mars\":\n",
        "            return 6.39e23\n",
        "        case \"mercury\":\n",
        "            return 3.285e23\n",
        "        case \"neptune\":\n",
        "            return 1.024e26\n",
        "        case \"saturn\":\n",
        "            return 5.683e26\n",
        "        case \"uranus\":\n",
        "            return 8.681e25\n",
        "        case \"venus\":\n",
        "            return 4.867e24\n",
        "        case _:\n",
        "            return 0.0"
      ],
      "metadata": {
        "id": "kJxCgYSKOMFF"
      },
      "execution_count": null,
      "outputs": []
    },
    {
      "cell_type": "markdown",
      "source": [
        "Execução do Agente"
      ],
      "metadata": {
        "id": "wc04w0t1URj1"
      }
    },
    {
      "cell_type": "code",
      "source": [
        "#cria uma instância da classe Agent, com o nome de neil_tyson\n",
        "neil_tyson = Agent(client=client, system=system_prompt)"
      ],
      "metadata": {
        "id": "pt0QMGwC0F7V"
      },
      "execution_count": 31,
      "outputs": []
    },
    {
      "cell_type": "code",
      "source": [
        "#envia uma pergunta ao agente, e ele responde com seu \"pensamento inicial\"\n",
        "result = neil_tyson(\"what is the mass of Earth times 5?\")\n",
        "print(result)"
      ],
      "metadata": {
        "colab": {
          "base_uri": "https://localhost:8080/"
        },
        "id": "jb8Wmom_0T2J",
        "outputId": "4d5be125-0ee0-4578-d606-3094ca6a63b2"
      },
      "execution_count": 32,
      "outputs": [
        {
          "output_type": "stream",
          "name": "stdout",
          "text": [
            "Thought: I need to find the mass of Earth\n"
          ]
        }
      ]
    },
    {
      "cell_type": "code",
      "source": [
        "#chama o agente novamente, mas agora ele decide executar a ação para obter a massa da Terra\n",
        "result = neil_tyson()\n",
        "print(result)"
      ],
      "metadata": {
        "colab": {
          "base_uri": "https://localhost:8080/"
        },
        "id": "yE6Pj_MG1IN2",
        "outputId": "225b7f34-a8eb-426f-bb7b-8194d00b16e6"
      },
      "execution_count": 34,
      "outputs": [
        {
          "output_type": "stream",
          "name": "stdout",
          "text": [
            "Action: get_planet_mass: Earth\n",
            "PAUSE\n"
          ]
        }
      ]
    },
    {
      "cell_type": "code",
      "source": [
        "#a função é chamada diretamente\n",
        "result = get_planet_mass(\"Earth\")\n",
        "print(result)"
      ],
      "metadata": {
        "colab": {
          "base_uri": "https://localhost:8080/"
        },
        "id": "f6_kahGo1KC5",
        "outputId": "b762bd4f-e231-4a4a-a2e9-e68656f208f3"
      },
      "execution_count": 35,
      "outputs": [
        {
          "output_type": "stream",
          "name": "stdout",
          "text": [
            "5.972e+24\n"
          ]
        }
      ]
    },
    {
      "cell_type": "code",
      "source": [
        "#envia o resultado da observação de volta ao agente, dai ele responde com o próximo pensamento\n",
        "next_prompt = f\"Observation: {result}\"\n",
        "result = neil_tyson(next_prompt)\n",
        "print(result)"
      ],
      "metadata": {
        "colab": {
          "base_uri": "https://localhost:8080/"
        },
        "id": "fG5ECrQm1aCv",
        "outputId": "962b60f4-33c5-4bae-a958-8ad041e083c0"
      },
      "execution_count": 36,
      "outputs": [
        {
          "output_type": "stream",
          "name": "stdout",
          "text": [
            "Thought: I need to multiply this by 5\n"
          ]
        }
      ]
    },
    {
      "cell_type": "code",
      "source": [
        "#o agente decide executar a ação pra multiplicar a massa por 5 (seu ultimo pensamento)\n",
        "result = neil_tyson()\n",
        "print(result)"
      ],
      "metadata": {
        "colab": {
          "base_uri": "https://localhost:8080/"
        },
        "id": "a8Bh_B1V2Gax",
        "outputId": "5d85d4ae-bd12-487a-937f-88be2b2f1389"
      },
      "execution_count": 38,
      "outputs": [
        {
          "output_type": "stream",
          "name": "stdout",
          "text": [
            "Action: calculate: 5.972e24 * 5\n",
            "PAUSE\n"
          ]
        }
      ]
    },
    {
      "cell_type": "code",
      "source": [
        "#chama a função pra calcular a operação matematica\n",
        "observation = calculate(\"5.972e24 * 5\")\n",
        "print(observation)"
      ],
      "metadata": {
        "colab": {
          "base_uri": "https://localhost:8080/"
        },
        "id": "zOV9dGCZ2LPB",
        "outputId": "400234ca-ccf3-42bb-ba07-9fe9b4cff9ae"
      },
      "execution_count": 39,
      "outputs": [
        {
          "output_type": "stream",
          "name": "stdout",
          "text": [
            "2.9860000000000004e+25\n"
          ]
        }
      ]
    },
    {
      "cell_type": "code",
      "source": [
        "#envia o resultado do cálculo de volta ao agente, com isso ele define que possui a resposta final\n",
        "next_prompt = f\"Observation: {observation}\"\n",
        "result = neil_tyson(next_prompt)\n",
        "print(result)"
      ],
      "metadata": {
        "colab": {
          "base_uri": "https://localhost:8080/"
        },
        "id": "QMwMyJZF3arx",
        "outputId": "a7c2cb32-35b3-4abc-b31d-8d6bd2157787"
      },
      "execution_count": 40,
      "outputs": [
        {
          "output_type": "stream",
          "name": "stdout",
          "text": [
            "Answer: The mass of Earth times 5 is 2.9860000000000004e+25.\n"
          ]
        }
      ]
    },
    {
      "cell_type": "code",
      "source": [
        "neil_tyson.messages"
      ],
      "metadata": {
        "colab": {
          "base_uri": "https://localhost:8080/"
        },
        "id": "grxJOY033rxu",
        "outputId": "dc0eca16-90bb-45be-a3a8-86a3b3cb29bc"
      },
      "execution_count": 41,
      "outputs": [
        {
          "output_type": "execute_result",
          "data": {
            "text/plain": [
              "[{'role': 'system',\n",
              "  'content': \"You run in a loop of Thought, Action, PAUSE, Observation.\\nAt the end of the loop you output an Answer\\nUse Thought to describe your thoughts about the question you have been asked.\\nUse Action to run one of the actions available to you - then return PAUSE.\\nObservation will be the result of running those actions.\\n\\nYour available actions are:\\n\\ncalculate:\\ne.g. calculate: 4 * 7 / 3\\nRuns a calculation and returns the number - uses Python so be sure to use floating point syntax if necessary\\n\\nget_planet_mass:\\ne.g. get_planet_mass: Earth\\nreturns weight of the planet in kg\\n\\nExample session:\\n\\nQuestion: What is the mass of Earth times 2?\\nThought: I need to find the mass of Earth\\nAction: get_planet_mass: Earth\\nPAUSE \\n\\nYou will be called again with this:\\n\\nObservation: 5.972e24\\n\\nThought: I need to multiply this by 2\\nAction: calculate: 5.972e24 * 2\\nPAUSE\\n\\nYou will be called again with this: \\n\\nObservation: 1,1944×10e25\\n\\nIf you have the answer, output it as the Answer.\\n\\nAnswer: The mass of Earth times 2 is 1,1944×10e25.\\n\\nNow it's your turn:\"},\n",
              " {'role': 'user', 'content': 'what is the mass of Earth times 5?'},\n",
              " {'role': 'assistant', 'content': 'Thought: I need to find the mass of Earth'},\n",
              " {'role': 'assistant', 'content': ''},\n",
              " {'role': 'assistant', 'content': 'Action: get_planet_mass: Earth\\nPAUSE'},\n",
              " {'role': 'user', 'content': 'Observation: 5.972e+24'},\n",
              " {'role': 'assistant', 'content': 'Thought: I need to multiply this by 5'},\n",
              " {'role': 'assistant', 'content': ''},\n",
              " {'role': 'assistant', 'content': 'Action: calculate: 5.972e24 * 5\\nPAUSE'},\n",
              " {'role': 'user', 'content': 'Observation: 2.9860000000000004e+25'},\n",
              " {'role': 'assistant',\n",
              "  'content': 'Answer: The mass of Earth times 5 is 2.9860000000000004e+25.'}]"
            ]
          },
          "metadata": {},
          "execution_count": 41
        }
      ]
    },
    {
      "cell_type": "markdown",
      "source": [
        "Execução do Agente com loop"
      ],
      "metadata": {
        "id": "EAoUwnnjVx5u"
      }
    },
    {
      "cell_type": "markdown",
      "source": [
        "a função agent_loop automatiza o ciclo, recebendo as iterações, o prompt e a pergunta inicial\n",
        "\n",
        "o loop principal incrementa o contador de iterações, envia o prompt atual ao agente e imprime sua resposta\n",
        "se a resposta contém PAUSE ou ACTION, é extraído o nome da ferramenta e o argumento\n",
        "se ele for válido, executa a função e prepara a observação\n",
        "\n",
        "caso a resposta contenha ANSWER, encerra o loop, visto que está definido que seria a resposta final"
      ],
      "metadata": {
        "id": "h0JbdhUbXLpy"
      }
    },
    {
      "cell_type": "code",
      "source": [
        "import re\n",
        "\n",
        "def agent_loop(max_iterations, system, query):\n",
        "    agent = Agent(client=client, system=system_prompt)\n",
        "    tools = [\"calculate\", \"get_planet_mass\"]\n",
        "    next_prompt = query\n",
        "    i = 0\n",
        "    while i < max_iterations:\n",
        "        i += 1\n",
        "        result = agent(next_prompt)\n",
        "        print(result)\n",
        "\n",
        "        if \"PAUSE\" in result and \"Action\" in result:\n",
        "            action = re.findall(r\"Action: ([a-z_]+): (.+)\", result, re.IGNORECASE)\n",
        "            chosen_tool = action[0][0]\n",
        "            arg = action[0][1]\n",
        "\n",
        "            if chosen_tool in tools:\n",
        "                result_tool = eval(f\"{chosen_tool}('{arg}')\")\n",
        "                next_prompt = f\"Observation: {result_tool}\"\n",
        "\n",
        "            else:\n",
        "                next_prompt = \"Observation: Tool not found\"\n",
        "\n",
        "            print(next_prompt)\n",
        "            continue\n",
        "\n",
        "        if \"Answer\" in result:\n",
        "            break"
      ],
      "metadata": {
        "id": "_9WvU1MI32T4"
      },
      "execution_count": 42,
      "outputs": []
    },
    {
      "cell_type": "code",
      "source": [
        "agent_loop(10, system = system_prompt, query=\"what is the mass of the Earth plus the mass of Mercury, and All of it times 5\")"
      ],
      "metadata": {
        "colab": {
          "base_uri": "https://localhost:8080/"
        },
        "id": "Yo9COV3l5_tK",
        "outputId": "79ebdd74-bfca-44ad-b0ba-a19c4257fa10"
      },
      "execution_count": 43,
      "outputs": [
        {
          "output_type": "stream",
          "name": "stdout",
          "text": [
            "Thought: I need to find the mass of the Earth and the mass of Mercury.\n",
            "Action: get_planet_mass: Earth\n",
            "PAUSE\n",
            "Observation: 5.972e+24\n",
            "Thought: I have the mass of the Earth, now I need to find the mass of Mercury.\n",
            "Action: get_planet_mass: Mercury\n",
            "PAUSE\n",
            "Observation: 3.285e+23\n",
            "Thought: I have the mass of the Earth and Mercury, now I need to add them together.\n",
            "Action: calculate: 5.972e+24 + 3.285e+23\n",
            "PAUSE\n",
            "Observation: 6.300500000000001e+24\n",
            "Thought: I have the sum of the masses of the Earth and Mercury, now I need to multiply it by 5.\n",
            "Action: calculate: 6.300500000000001e+24 * 5\n",
            "PAUSE\n",
            "Observation: 3.1502500000000004e+25\n",
            "Answer: The mass of the Earth plus the mass of Mercury, and all of it times 5 is 3.1502500000000004e+25.\n"
          ]
        }
      ]
    }
  ]
}