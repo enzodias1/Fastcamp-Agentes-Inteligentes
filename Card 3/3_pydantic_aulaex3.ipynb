{
  "nbformat": 4,
  "nbformat_minor": 0,
  "metadata": {
    "colab": {
      "provenance": []
    },
    "kernelspec": {
      "name": "python3",
      "display_name": "Python 3"
    },
    "language_info": {
      "name": "python"
    }
  },
  "cells": [
    {
      "cell_type": "markdown",
      "source": [
        "Instalações e importações necessárias"
      ],
      "metadata": {
        "id": "Nz2wJmELhay8"
      }
    },
    {
      "cell_type": "code",
      "execution_count": 1,
      "metadata": {
        "colab": {
          "base_uri": "https://localhost:8080/"
        },
        "id": "Ty3-YARihKBQ",
        "outputId": "da6fceff-acdd-42cf-d289-a223c54995da"
      },
      "outputs": [
        {
          "output_type": "stream",
          "name": "stdout",
          "text": [
            "Requirement already satisfied: pydantic in /usr/local/lib/python3.11/dist-packages (2.10.6)\n",
            "Requirement already satisfied: annotated-types>=0.6.0 in /usr/local/lib/python3.11/dist-packages (from pydantic) (0.7.0)\n",
            "Requirement already satisfied: pydantic-core==2.27.2 in /usr/local/lib/python3.11/dist-packages (from pydantic) (2.27.2)\n",
            "Requirement already satisfied: typing-extensions>=4.12.2 in /usr/local/lib/python3.11/dist-packages (from pydantic) (4.12.2)\n",
            "Requirement already satisfied: pydantic[email] in /usr/local/lib/python3.11/dist-packages (2.10.6)\n",
            "Requirement already satisfied: annotated-types>=0.6.0 in /usr/local/lib/python3.11/dist-packages (from pydantic[email]) (0.7.0)\n",
            "Requirement already satisfied: pydantic-core==2.27.2 in /usr/local/lib/python3.11/dist-packages (from pydantic[email]) (2.27.2)\n",
            "Requirement already satisfied: typing-extensions>=4.12.2 in /usr/local/lib/python3.11/dist-packages (from pydantic[email]) (4.12.2)\n",
            "Collecting email-validator>=2.0.0 (from pydantic[email])\n",
            "  Downloading email_validator-2.2.0-py3-none-any.whl.metadata (25 kB)\n",
            "Collecting dnspython>=2.0.0 (from email-validator>=2.0.0->pydantic[email])\n",
            "  Downloading dnspython-2.7.0-py3-none-any.whl.metadata (5.8 kB)\n",
            "Requirement already satisfied: idna>=2.0.0 in /usr/local/lib/python3.11/dist-packages (from email-validator>=2.0.0->pydantic[email]) (3.10)\n",
            "Downloading email_validator-2.2.0-py3-none-any.whl (33 kB)\n",
            "Downloading dnspython-2.7.0-py3-none-any.whl (313 kB)\n",
            "\u001b[2K   \u001b[90m━━━━━━━━━━━━━━━━━━━━━━━━━━━━━━━━━━━━━━━━\u001b[0m \u001b[32m313.6/313.6 kB\u001b[0m \u001b[31m8.6 MB/s\u001b[0m eta \u001b[36m0:00:00\u001b[0m\n",
            "\u001b[?25hInstalling collected packages: dnspython, email-validator\n",
            "Successfully installed dnspython-2.7.0 email-validator-2.2.0\n"
          ]
        }
      ],
      "source": [
        "!pip install pydantic\n",
        "!pip install pydantic[email]"
      ]
    },
    {
      "cell_type": "code",
      "source": [
        "import enum\n",
        "import hashlib\n",
        "import re\n",
        "from typing import Any, Self\n",
        "from pydantic import (\n",
        "    BaseModel,\n",
        "    EmailStr,\n",
        "    Field,\n",
        "    field_serializer,\n",
        "    field_validator,\n",
        "    model_serializer,\n",
        "    model_validator,\n",
        "    SecretStr,\n",
        ")"
      ],
      "metadata": {
        "id": "hUJW1I5qhhVZ"
      },
      "execution_count": 18,
      "outputs": []
    },
    {
      "cell_type": "markdown",
      "source": [
        "Criação de expressões regulares para validação A primeira garante que a senha tenha pelo menos oito caracteres, contendo letra maiúscula, minúscula e um número Já a segunda garante que o nome tenha apenas letras e no mínimo 2 caracteres\n",
        "\n"
      ],
      "metadata": {
        "id": "Lce7w5zXhjtZ"
      }
    },
    {
      "cell_type": "code",
      "source": [
        "VALID_PASSWORD_REGEX = re.compile(r\"^(?=.*[a-z])(?=.*[A-Z])(?=.*\\d).{8,}$\")\n",
        "VALID_NAME_REGEX = re.compile(r\"^[a-zA-Z]{2,}$\")"
      ],
      "metadata": {
        "id": "dDQm5vvuhjJN"
      },
      "execution_count": 19,
      "outputs": []
    },
    {
      "cell_type": "markdown",
      "source": [
        "Criação da classe Role, que agora inclui um User com valor 0, servindo como padrão"
      ],
      "metadata": {
        "id": "YitvXD6rhtIh"
      }
    },
    {
      "cell_type": "code",
      "source": [
        "class Role(enum.IntFlag):\n",
        "    User = 0\n",
        "    Author = 1\n",
        "    Editor = 2\n",
        "    Admin = 4\n",
        "    SuperAdmin = 8"
      ],
      "metadata": {
        "id": "7tBzmugahqgE"
      },
      "execution_count": 20,
      "outputs": []
    },
    {
      "cell_type": "markdown",
      "source": [
        "Criação da classe User, agora o password possui o parâmetro exclude=True, que exclui o campo por padrão\n",
        "e role agora tem o valor 0 e validate_default=True diz que o valor padrão deve passar pela validação\n",
        "\n",
        "field_validator para \"name\", que valida que o nome seja compatível com a expressão regular citada acima e lança um erro caso seja inválido\n",
        "\n",
        "field_validator para \"role\", que aceita o papel como inteiro, string ou instância, usando um dicionário de operações para converter o valor do tipo Role correto e lança um erro se o papel for inválido\n",
        "\n",
        "model_validator mode before roda antes do processo de validação, verificando se o nome e a senha estão presentes nos dados. Além de garantir que a senha não contenha o nome do usuário, transformando a senha em um hashsha-256 como medida de segurança. Agora foi renomeado para user_pre para diferenciar do próximo validador\n",
        "\n",
        "model_validator mode after é executado após todas as validações padrão e verifica uma regra, somente usuários com nome de \"Arjan\" irão poder ser admin e retorna a própria instância\n",
        "\n",
        "field_serializer role é aplicado ao role quando o modo de é json e converte o objeto role ao seu nome ao invés de valor numérico\n",
        "\n",
        "model_serializer mode wrap também é aplicado quando o modo de serialização é json e, se não houver inclusões ou exclusões específicas, retorna apenas name e role"
      ],
      "metadata": {
        "id": "HtCEgKdih6Gu"
      }
    },
    {
      "cell_type": "code",
      "source": [
        "class User(BaseModel):\n",
        "    name: str = Field(examples=[\"Example\"])\n",
        "    email: EmailStr = Field(\n",
        "        examples=[\"user@arjancodes.com\"],\n",
        "        description=\"The email address of the user\",\n",
        "        frozen=True,\n",
        "    )\n",
        "    password: SecretStr = Field(\n",
        "        examples=[\"Password123\"], description=\"The password of the user\", exclude=True\n",
        "    )\n",
        "    role: Role = Field(\n",
        "        description=\"The role of the user\",\n",
        "        examples=[1, 2, 4, 8],\n",
        "        default=0,\n",
        "        validate_default=True,\n",
        "    )\n",
        "\n",
        "    @field_validator(\"name\")\n",
        "    def validate_name(cls, v: str) -> str:\n",
        "        if not VALID_NAME_REGEX.match(v):\n",
        "            raise ValueError(\n",
        "                \"Name is invalid, must contain only letters and be at least 2 characters long\"\n",
        "            )\n",
        "        return v\n",
        "\n",
        "    @field_validator(\"role\", mode=\"before\")\n",
        "    @classmethod\n",
        "    def validate_role(cls, v: int | str | Role) -> Role:\n",
        "        op = {int: lambda x: Role(x), str: lambda x: Role[x], Role: lambda x: x}\n",
        "        try:\n",
        "            return op[type(v)](v)\n",
        "        except (KeyError, ValueError):\n",
        "            raise ValueError(\n",
        "                f\"Role is invalid, please use one of the following: {', '.join([x.name for x in Role])}\"\n",
        "            )\n",
        "\n",
        "    @model_validator(mode=\"before\")\n",
        "    @classmethod\n",
        "    def validate_user_pre(cls, v: dict[str, Any]) -> dict[str, Any]:\n",
        "        if \"name\" not in v or \"password\" not in v:\n",
        "            raise ValueError(\"Name and password are required\")\n",
        "        if v[\"name\"].casefold() in v[\"password\"].casefold():\n",
        "            raise ValueError(\"Password cannot contain name\")\n",
        "        if not VALID_PASSWORD_REGEX.match(v[\"password\"]):\n",
        "            raise ValueError(\n",
        "                \"Password is invalid, must contain 8 characters, 1 uppercase, 1 lowercase, 1 number\"\n",
        "            )\n",
        "        v[\"password\"] = hashlib.sha256(v[\"password\"].encode()).hexdigest()\n",
        "        return v\n",
        "\n",
        "    @model_validator(mode=\"after\")\n",
        "    def validate_user_post(self, v: Any) -> Self:\n",
        "        if self.role == Role.Admin and self.name != \"Arjan\":\n",
        "            raise ValueError(\"Only Arjan can be an admin\")\n",
        "        return self\n",
        "\n",
        "    @field_serializer(\"role\", when_used=\"json\")\n",
        "    @classmethod\n",
        "    def serialize_role(cls, v) -> str:\n",
        "        return v.name\n",
        "\n",
        "    @model_serializer(mode=\"wrap\", when_used=\"json\")\n",
        "    def serialize_user(self, serializer, info) -> dict[str, Any]:\n",
        "        if not info.include and not info.exclude:\n",
        "            return {\"name\": self.name, \"role\": self.role.name}\n",
        "        return serializer(self)"
      ],
      "metadata": {
        "id": "9xc5MSqRhz1m"
      },
      "execution_count": 30,
      "outputs": []
    },
    {
      "cell_type": "markdown",
      "source": [
        "criação da função main, que define dados para um usuário válido, validando eles e criando o User, tendo diferentes modos de serialização como o modelo_dump para um dicionário python, mode json para um formato adequado JSON, o terceiro demonstra exclusão seletiva de campos e o último exclusão direta para dicionário, visto que possui um comportamento diferente"
      ],
      "metadata": {
        "id": "kDqiPkIrwc_u"
      }
    },
    {
      "cell_type": "code",
      "source": [
        "def main() -> None:\n",
        "    data = {\n",
        "        \"name\": \"Arjan\",\n",
        "        \"email\": \"example@arjancodes.com\",\n",
        "        \"password\": \"Password123\",\n",
        "        \"role\": \"Admin\",\n",
        "    }\n",
        "    user = User.model_validate(data)\n",
        "    if user:\n",
        "        print(\n",
        "            \"The serializer that returns a dict:\",\n",
        "            user.model_dump(),\n",
        "            sep=\"\\n\",\n",
        "            end=\"\\n\\n\",\n",
        "        )\n",
        "        print(\n",
        "            \"The serializer that returns a JSON string:\",\n",
        "            user.model_dump(mode=\"json\"),\n",
        "            sep=\"\\n\",\n",
        "            end=\"\\n\\n\",\n",
        "        )\n",
        "        print(\n",
        "            \"The serializer that returns a json string, excluding the role:\",\n",
        "            user.model_dump(exclude=[\"role\"], mode=\"json\"),\n",
        "            sep=\"\\n\",\n",
        "            end=\"\\n\\n\",\n",
        "        )\n",
        "        print(\"The serializer that encodes all values to a dict:\", dict(user), sep=\"\\n\")"
      ],
      "metadata": {
        "id": "P198NnOywYs5"
      },
      "execution_count": 31,
      "outputs": []
    },
    {
      "cell_type": "code",
      "source": [
        "if __name__ == \"__main__\":\n",
        "    main()"
      ],
      "metadata": {
        "colab": {
          "base_uri": "https://localhost:8080/"
        },
        "id": "EKWNMo8Mw6Yl",
        "outputId": "ebaa3ed5-f26c-4752-a8f4-7ee9fac6a534"
      },
      "execution_count": 32,
      "outputs": [
        {
          "output_type": "stream",
          "name": "stdout",
          "text": [
            "The serializer that returns a dict:\n",
            "{'name': 'Arjan', 'email': 'example@arjancodes.com', 'role': <Role.Admin: 4>}\n",
            "\n",
            "The serializer that returns a JSON string:\n",
            "{'name': 'Arjan', 'role': 'Admin'}\n",
            "\n",
            "The serializer that returns a json string, excluding the role:\n",
            "{'name': 'Arjan', 'email': 'example@arjancodes.com'}\n",
            "\n",
            "The serializer that encodes all values to a dict:\n",
            "{'name': 'Arjan', 'email': 'example@arjancodes.com', 'password': SecretStr('**********'), 'role': <Role.Admin: 4>}\n"
          ]
        }
      ]
    }
  ]
}