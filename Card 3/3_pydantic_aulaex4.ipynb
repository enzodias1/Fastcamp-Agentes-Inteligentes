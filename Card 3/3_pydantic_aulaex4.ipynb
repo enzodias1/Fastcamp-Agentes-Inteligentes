{
  "nbformat": 4,
  "nbformat_minor": 0,
  "metadata": {
    "colab": {
      "provenance": []
    },
    "kernelspec": {
      "name": "python3",
      "display_name": "Python 3"
    },
    "language_info": {
      "name": "python"
    }
  },
  "cells": [
    {
      "cell_type": "markdown",
      "source": [
        "Instalações e importações necessárias\n",
        "\n"
      ],
      "metadata": {
        "id": "OihztKvDzR8L"
      }
    },
    {
      "cell_type": "code",
      "execution_count": 1,
      "metadata": {
        "colab": {
          "base_uri": "https://localhost:8080/"
        },
        "id": "7k8x07iQzOe4",
        "outputId": "6a6de9c0-0822-4e71-9bdd-752ec70a5117"
      },
      "outputs": [
        {
          "output_type": "stream",
          "name": "stdout",
          "text": [
            "Requirement already satisfied: pydantic in /usr/local/lib/python3.11/dist-packages (2.10.6)\n",
            "Requirement already satisfied: annotated-types>=0.6.0 in /usr/local/lib/python3.11/dist-packages (from pydantic) (0.7.0)\n",
            "Requirement already satisfied: pydantic-core==2.27.2 in /usr/local/lib/python3.11/dist-packages (from pydantic) (2.27.2)\n",
            "Requirement already satisfied: typing-extensions>=4.12.2 in /usr/local/lib/python3.11/dist-packages (from pydantic) (4.12.2)\n",
            "Requirement already satisfied: pydantic[email] in /usr/local/lib/python3.11/dist-packages (2.10.6)\n",
            "Requirement already satisfied: annotated-types>=0.6.0 in /usr/local/lib/python3.11/dist-packages (from pydantic[email]) (0.7.0)\n",
            "Requirement already satisfied: pydantic-core==2.27.2 in /usr/local/lib/python3.11/dist-packages (from pydantic[email]) (2.27.2)\n",
            "Requirement already satisfied: typing-extensions>=4.12.2 in /usr/local/lib/python3.11/dist-packages (from pydantic[email]) (4.12.2)\n",
            "Collecting email-validator>=2.0.0 (from pydantic[email])\n",
            "  Downloading email_validator-2.2.0-py3-none-any.whl.metadata (25 kB)\n",
            "Collecting dnspython>=2.0.0 (from email-validator>=2.0.0->pydantic[email])\n",
            "  Downloading dnspython-2.7.0-py3-none-any.whl.metadata (5.8 kB)\n",
            "Requirement already satisfied: idna>=2.0.0 in /usr/local/lib/python3.11/dist-packages (from email-validator>=2.0.0->pydantic[email]) (3.10)\n",
            "Downloading email_validator-2.2.0-py3-none-any.whl (33 kB)\n",
            "Downloading dnspython-2.7.0-py3-none-any.whl (313 kB)\n",
            "\u001b[2K   \u001b[90m━━━━━━━━━━━━━━━━━━━━━━━━━━━━━━━━━━━━━━━━\u001b[0m \u001b[32m313.6/313.6 kB\u001b[0m \u001b[31m8.3 MB/s\u001b[0m eta \u001b[36m0:00:00\u001b[0m\n",
            "\u001b[?25hInstalling collected packages: dnspython, email-validator\n",
            "Successfully installed dnspython-2.7.0 email-validator-2.2.0\n",
            "Collecting fastapi\n",
            "  Downloading fastapi-0.115.11-py3-none-any.whl.metadata (27 kB)\n",
            "Collecting starlette<0.47.0,>=0.40.0 (from fastapi)\n",
            "  Downloading starlette-0.46.1-py3-none-any.whl.metadata (6.2 kB)\n",
            "Requirement already satisfied: pydantic!=1.8,!=1.8.1,!=2.0.0,!=2.0.1,!=2.1.0,<3.0.0,>=1.7.4 in /usr/local/lib/python3.11/dist-packages (from fastapi) (2.10.6)\n",
            "Requirement already satisfied: typing-extensions>=4.8.0 in /usr/local/lib/python3.11/dist-packages (from fastapi) (4.12.2)\n",
            "Requirement already satisfied: annotated-types>=0.6.0 in /usr/local/lib/python3.11/dist-packages (from pydantic!=1.8,!=1.8.1,!=2.0.0,!=2.0.1,!=2.1.0,<3.0.0,>=1.7.4->fastapi) (0.7.0)\n",
            "Requirement already satisfied: pydantic-core==2.27.2 in /usr/local/lib/python3.11/dist-packages (from pydantic!=1.8,!=1.8.1,!=2.0.0,!=2.0.1,!=2.1.0,<3.0.0,>=1.7.4->fastapi) (2.27.2)\n",
            "Requirement already satisfied: anyio<5,>=3.6.2 in /usr/local/lib/python3.11/dist-packages (from starlette<0.47.0,>=0.40.0->fastapi) (3.7.1)\n",
            "Requirement already satisfied: idna>=2.8 in /usr/local/lib/python3.11/dist-packages (from anyio<5,>=3.6.2->starlette<0.47.0,>=0.40.0->fastapi) (3.10)\n",
            "Requirement already satisfied: sniffio>=1.1 in /usr/local/lib/python3.11/dist-packages (from anyio<5,>=3.6.2->starlette<0.47.0,>=0.40.0->fastapi) (1.3.1)\n",
            "Downloading fastapi-0.115.11-py3-none-any.whl (94 kB)\n",
            "\u001b[2K   \u001b[90m━━━━━━━━━━━━━━━━━━━━━━━━━━━━━━━━━━━━━━━━\u001b[0m \u001b[32m94.9/94.9 kB\u001b[0m \u001b[31m4.0 MB/s\u001b[0m eta \u001b[36m0:00:00\u001b[0m\n",
            "\u001b[?25hDownloading starlette-0.46.1-py3-none-any.whl (71 kB)\n",
            "\u001b[2K   \u001b[90m━━━━━━━━━━━━━━━━━━━━━━━━━━━━━━━━━━━━━━━━\u001b[0m \u001b[32m72.0/72.0 kB\u001b[0m \u001b[31m4.4 MB/s\u001b[0m eta \u001b[36m0:00:00\u001b[0m\n",
            "\u001b[?25hInstalling collected packages: starlette, fastapi\n",
            "Successfully installed fastapi-0.115.11 starlette-0.46.1\n"
          ]
        }
      ],
      "source": [
        "!pip install pydantic\n",
        "!pip install pydantic[email]\n",
        "!pip install fastapi"
      ]
    },
    {
      "cell_type": "code",
      "source": [
        "from datetime import datetime\n",
        "from typing import Optional\n",
        "from uuid import uuid4\n",
        "\n",
        "from fastapi import FastAPI\n",
        "from fastapi.responses import JSONResponse\n",
        "from fastapi.testclient import TestClient\n",
        "from pydantic import BaseModel, EmailStr, Field, field_serializer, UUID4"
      ],
      "metadata": {
        "id": "ajh-4jRcznKy"
      },
      "execution_count": 13,
      "outputs": []
    },
    {
      "cell_type": "code",
      "source": [
        "app = FastAPI()"
      ],
      "metadata": {
        "id": "HeakfkaNz66T"
      },
      "execution_count": 14,
      "outputs": []
    },
    {
      "cell_type": "markdown",
      "source": [
        "criação da classe User\n",
        "\n",
        "o modelconfig rejeita campos extras não definidos no modelo\n",
        "\n",
        "há uma lista para armazenar todos os usuários, como se fosse um banco de dados\n",
        "\n",
        "o campo id possui um serializador personalizado que converte uuid para string quando serializado para json"
      ],
      "metadata": {
        "id": "wyk_cfJl0Jrx"
      }
    },
    {
      "cell_type": "code",
      "source": [
        "class User(BaseModel):\n",
        "    model_config = {\n",
        "        \"extra\": \"forbid\",\n",
        "    }\n",
        "    __users__ = []\n",
        "    name: str = Field(..., description=\"Name of the user\")\n",
        "    email: EmailStr = Field(..., description=\"Email address of the user\")\n",
        "    friends: list[UUID4] = Field(\n",
        "        default_factory=list, max_items=500, description=\"List of friends\"\n",
        "    )\n",
        "    blocked: list[UUID4] = Field(\n",
        "        default_factory=list, max_items=500, description=\"List of blocked users\"\n",
        "    )\n",
        "    signup_ts: Optional[datetime] = Field(\n",
        "        default_factory=datetime.now, description=\"Signup timestamp\", kw_only=True\n",
        "    )\n",
        "    id: UUID4 = Field(\n",
        "        default_factory=uuid4, description=\"Unique identifier\", kw_only=True\n",
        "    )\n",
        "\n",
        "    @field_serializer(\"id\", when_used=\"json\")\n",
        "    def serialize_id(self, id: UUID4) -> str:\n",
        "        return str(id)"
      ],
      "metadata": {
        "id": "6_KHA0uy0HM_"
      },
      "execution_count": 15,
      "outputs": []
    },
    {
      "cell_type": "markdown",
      "source": [
        "esse endpoint retorna todos os usuários armazenados na lista users"
      ],
      "metadata": {
        "id": "c8xXFDw204_O"
      }
    },
    {
      "cell_type": "code",
      "source": [
        "@app.get(\"/users\", response_model=list[User])\n",
        "async def get_users() -> list[User]:\n",
        "    return list(User.__users__)"
      ],
      "metadata": {
        "id": "j5hN9dfs02Tg"
      },
      "execution_count": 16,
      "outputs": []
    },
    {
      "cell_type": "markdown",
      "source": [
        "esse endpoint recebe dados do usuário, adiciona o usuário a lista users e retorna o usuário criado"
      ],
      "metadata": {
        "id": "8elyfFuK0-jz"
      }
    },
    {
      "cell_type": "code",
      "source": [
        "@app.post(\"/users\", response_model=User)\n",
        "async def create_user(user: User):\n",
        "    User.__users__.append(user)\n",
        "    return user"
      ],
      "metadata": {
        "id": "is8CiPCE07XN"
      },
      "execution_count": 17,
      "outputs": []
    },
    {
      "cell_type": "markdown",
      "source": [
        "já esse endpoint recebe um ID de um usuário como parte da url, busca o usuário na lista users e retorna o usuário caso encontre, caso não dá um error de user not found"
      ],
      "metadata": {
        "id": "CGFETGG-1IHx"
      }
    },
    {
      "cell_type": "code",
      "source": [
        "@app.get(\"/users/{user_id}\", response_model=User)\n",
        "async def get_user(user_id: UUID4) -> User | JSONResponse:\n",
        "    try:\n",
        "        return next((user for user in User.__users__ if user.id == user_id))\n",
        "    except StopIteration:\n",
        "        return JSONResponse(status_code=404, content={\"message\": \"User not found\"})"
      ],
      "metadata": {
        "id": "dPs4Tn1P1EP_"
      },
      "execution_count": 18,
      "outputs": []
    },
    {
      "cell_type": "markdown",
      "source": [
        "a função main possui os testes integrados usando o TestClient da FastAPI, e esses testes verificam a criação de 5 usuários com dados válidos, listagem de todos os usuários, criação de mais um usuário, busca de um usuário específico pela id, tentativa de buscar um usuário que não existe e tentativa de criar um usuário com email inválido"
      ],
      "metadata": {
        "id": "ZG6bYmH51hAV"
      }
    },
    {
      "cell_type": "code",
      "source": [
        "def main() -> None:\n",
        "    with TestClient(app) as client:\n",
        "        for i in range(5):\n",
        "            response = client.post(\n",
        "                \"/users\",\n",
        "                json={\"name\": f\"User {i}\", \"email\": f\"example{i}@arjancodes.com\"},\n",
        "            )\n",
        "            assert response.status_code == 200\n",
        "            assert response.json()[\"name\"] == f\"User {i}\", (\n",
        "                \"The name of the user should be User {i}\"\n",
        "            )\n",
        "            assert response.json()[\"id\"], \"The user should have an id\"\n",
        "\n",
        "            user = User.model_validate(response.json())\n",
        "            assert str(user.id) == response.json()[\"id\"], \"The id should be the same\"\n",
        "            assert user.signup_ts, \"The signup timestamp should be set\"\n",
        "            assert user.friends == [], \"The friends list should be empty\"\n",
        "            assert user.blocked == [], \"The blocked list should be empty\"\n",
        "\n",
        "        response = client.get(\"/users\")\n",
        "        assert response.status_code == 200, \"Response code should be 200\"\n",
        "        assert len(response.json()) == 5, \"There should be 5 users\"\n",
        "\n",
        "        response = client.post(\n",
        "            \"/users\", json={\"name\": \"User 5\", \"email\": \"example5@arjancodes.com\"}\n",
        "        )\n",
        "        assert response.status_code == 200\n",
        "        assert response.json()[\"name\"] == \"User 5\", (\n",
        "            \"The name of the user should be User 5\"\n",
        "        )\n",
        "        assert response.json()[\"id\"], \"The user should have an id\"\n",
        "\n",
        "        user = User.model_validate(response.json())\n",
        "        assert str(user.id) == response.json()[\"id\"], \"The id should be the same\"\n",
        "        assert user.signup_ts, \"The signup timestamp should be set\"\n",
        "        assert user.friends == [], \"The friends list should be empty\"\n",
        "        assert user.blocked == [], \"The blocked list should be empty\"\n",
        "\n",
        "        response = client.get(f\"/users/{response.json()['id']}\")\n",
        "        assert response.status_code == 200\n",
        "        assert response.json()[\"name\"] == \"User 5\", (\n",
        "            \"This should be the newly created user\"\n",
        "        )\n",
        "\n",
        "        response = client.get(f\"/users/{uuid4()}\")\n",
        "        assert response.status_code == 404\n",
        "        assert response.json()[\"message\"] == \"User not found\", (\n",
        "            \"We technically should not find this user\"\n",
        "        )\n",
        "\n",
        "        response = client.post(\"/users\", json={\"name\": \"User 6\", \"email\": \"wrong\"})\n",
        "        assert response.status_code == 422, \"The email address is should be invalid\""
      ],
      "metadata": {
        "id": "WdKg688V1QpN"
      },
      "execution_count": 19,
      "outputs": []
    },
    {
      "cell_type": "code",
      "source": [
        "if __name__ == \"__main__\":\n",
        "    main()"
      ],
      "metadata": {
        "id": "F8b1av-v1Vdn"
      },
      "execution_count": 20,
      "outputs": []
    }
  ]
}