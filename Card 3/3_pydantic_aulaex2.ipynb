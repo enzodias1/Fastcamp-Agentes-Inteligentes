{
  "nbformat": 4,
  "nbformat_minor": 0,
  "metadata": {
    "colab": {
      "provenance": []
    },
    "kernelspec": {
      "name": "python3",
      "display_name": "Python 3"
    },
    "language_info": {
      "name": "python"
    }
  },
  "cells": [
    {
      "cell_type": "markdown",
      "source": [
        "Instalações e importações necessárias"
      ],
      "metadata": {
        "id": "Q-UnKBB8eCo7"
      }
    },
    {
      "cell_type": "code",
      "execution_count": 1,
      "metadata": {
        "colab": {
          "base_uri": "https://localhost:8080/"
        },
        "id": "HphGUyO3dxwF",
        "outputId": "f4a31b63-c98d-4abe-d293-898f28ed44b4"
      },
      "outputs": [
        {
          "output_type": "stream",
          "name": "stdout",
          "text": [
            "Requirement already satisfied: pydantic in /usr/local/lib/python3.11/dist-packages (2.10.6)\n",
            "Requirement already satisfied: annotated-types>=0.6.0 in /usr/local/lib/python3.11/dist-packages (from pydantic) (0.7.0)\n",
            "Requirement already satisfied: pydantic-core==2.27.2 in /usr/local/lib/python3.11/dist-packages (from pydantic) (2.27.2)\n",
            "Requirement already satisfied: typing-extensions>=4.12.2 in /usr/local/lib/python3.11/dist-packages (from pydantic) (4.12.2)\n",
            "Requirement already satisfied: pydantic[email] in /usr/local/lib/python3.11/dist-packages (2.10.6)\n",
            "Requirement already satisfied: annotated-types>=0.6.0 in /usr/local/lib/python3.11/dist-packages (from pydantic[email]) (0.7.0)\n",
            "Requirement already satisfied: pydantic-core==2.27.2 in /usr/local/lib/python3.11/dist-packages (from pydantic[email]) (2.27.2)\n",
            "Requirement already satisfied: typing-extensions>=4.12.2 in /usr/local/lib/python3.11/dist-packages (from pydantic[email]) (4.12.2)\n",
            "Collecting email-validator>=2.0.0 (from pydantic[email])\n",
            "  Downloading email_validator-2.2.0-py3-none-any.whl.metadata (25 kB)\n",
            "Collecting dnspython>=2.0.0 (from email-validator>=2.0.0->pydantic[email])\n",
            "  Downloading dnspython-2.7.0-py3-none-any.whl.metadata (5.8 kB)\n",
            "Requirement already satisfied: idna>=2.0.0 in /usr/local/lib/python3.11/dist-packages (from email-validator>=2.0.0->pydantic[email]) (3.10)\n",
            "Downloading email_validator-2.2.0-py3-none-any.whl (33 kB)\n",
            "Downloading dnspython-2.7.0-py3-none-any.whl (313 kB)\n",
            "\u001b[2K   \u001b[90m━━━━━━━━━━━━━━━━━━━━━━━━━━━━━━━━━━━━━━━━\u001b[0m \u001b[32m313.6/313.6 kB\u001b[0m \u001b[31m8.2 MB/s\u001b[0m eta \u001b[36m0:00:00\u001b[0m\n",
            "\u001b[?25hInstalling collected packages: dnspython, email-validator\n",
            "Successfully installed dnspython-2.7.0 email-validator-2.2.0\n"
          ]
        }
      ],
      "source": [
        "!pip install pydantic\n",
        "!pip install pydantic[email]"
      ]
    },
    {
      "cell_type": "code",
      "source": [
        "import enum\n",
        "import hashlib\n",
        "import re\n",
        "from typing import Any\n",
        "\n",
        "from pydantic import (\n",
        "    BaseModel,\n",
        "    EmailStr,\n",
        "    Field,\n",
        "    field_validator,\n",
        "    model_validator,\n",
        "    SecretStr,\n",
        "    ValidationError,\n",
        ")"
      ],
      "metadata": {
        "id": "gVR8ewTIeUwd"
      },
      "execution_count": 2,
      "outputs": []
    },
    {
      "cell_type": "markdown",
      "source": [
        "Criação de expressões regulares para validação\n",
        "A primeira garante que a senha tenha pelo menos oito caracteres, contendo letra maiúscula, minúscula e um número\n",
        "Já a segunda garante que o nome tenha apenas letras e no mínimo 2 caracteres"
      ],
      "metadata": {
        "id": "qVLo9tBZeZml"
      }
    },
    {
      "cell_type": "code",
      "source": [
        "VALID_PASSWORD_REGEX = re.compile(r\"^(?=.*[a-z])(?=.*[A-Z])(?=.*\\d).{8,}$\")\n",
        "VALID_NAME_REGEX = re.compile(r\"^[a-zA-Z]{2,}$\")"
      ],
      "metadata": {
        "id": "elcAdqQneY8V"
      },
      "execution_count": 3,
      "outputs": []
    },
    {
      "cell_type": "markdown",
      "source": [
        "Criação da classe Role, porém agora, diferente do exemplo 1, os papéis tem valores específicos atribuídos (em potencias de 2)"
      ],
      "metadata": {
        "id": "_mVP1mSMequz"
      }
    },
    {
      "cell_type": "code",
      "source": [
        "class Role(enum.IntFlag):\n",
        "    Author = 1\n",
        "    Editor = 2\n",
        "    Admin = 4\n",
        "    SuperAdmin = 8"
      ],
      "metadata": {
        "id": "DmuHd2v7eo43"
      },
      "execution_count": 4,
      "outputs": []
    },
    {
      "cell_type": "markdown",
      "source": [
        "Criação da classe User, bem semelhante ao do exemplo 1, porém agora possui um field_validator para \"name\", que valida que o nome seja compatível com a expressão regular citada acima e lança um erro caso seja inválido"
      ],
      "metadata": {
        "id": "udkcN_kQfCLN"
      }
    },
    {
      "cell_type": "code",
      "source": [
        "class User(BaseModel):\n",
        "    name: str = Field(examples=[\"Arjan\"])\n",
        "    email: EmailStr = Field(\n",
        "        examples=[\"user@arjancodes.com\"],\n",
        "        description=\"The email address of the user\",\n",
        "        frozen=True,\n",
        "    )\n",
        "    password: SecretStr = Field(\n",
        "        examples=[\"Password123\"], description=\"The password of the user\"\n",
        "    )\n",
        "    role: Role = Field(\n",
        "        default=None, description=\"The role of the user\", examples=[1, 2, 4, 8]\n",
        "    )\n",
        "\n",
        "    @field_validator(\"name\")\n",
        "    @classmethod\n",
        "    def validate_name(cls, v: str) -> str:\n",
        "        if not VALID_NAME_REGEX.match(v):\n",
        "            raise ValueError(\n",
        "                \"Name is invalid, must contain only letters and be at least 2 characters long\"\n",
        "            )\n",
        "        return v"
      ],
      "metadata": {
        "id": "CzUWftXRe0Ul"
      },
      "execution_count": 5,
      "outputs": []
    },
    {
      "cell_type": "markdown",
      "source": [
        "Há também o field_validator para \"role\", que aceita o papel como inteiro, string ou instância, usando um dicionário de operações para converter o valor do tipo Role correto e lança um erro se o papel for inválido"
      ],
      "metadata": {
        "id": "P2avH4irfbLG"
      }
    },
    {
      "cell_type": "code",
      "source": [
        "    @field_validator(\"role\", mode=\"before\")\n",
        "    @classmethod\n",
        "    def validate_role(cls, v: int | str | Role) -> Role:\n",
        "        op = {int: lambda x: Role(x), str: lambda x: Role[x], Role: lambda x: x}\n",
        "        try:\n",
        "            return op[type(v)](v)\n",
        "        except (KeyError, ValueError):\n",
        "            raise ValueError(\n",
        "                f\"Role is invalid, please use one of the following: {', '.join([x.name for x in Role])}\"\n",
        "            )"
      ],
      "metadata": {
        "id": "cdp7PqI_fZnm"
      },
      "execution_count": 6,
      "outputs": []
    },
    {
      "cell_type": "markdown",
      "source": [
        "model_validator roda antes do processo de validação, verificando se o nome e a senha estão presentes nos dados. Além de garantir que a senha não contenha o nome do usuário, transformando a senha em um hashsha-256 como medida de segurança"
      ],
      "metadata": {
        "id": "XeudOjwHf05y"
      }
    },
    {
      "cell_type": "code",
      "source": [
        "    @model_validator(mode=\"before\")\n",
        "    @classmethod\n",
        "    def validate_user(cls, v: dict[str, Any]) -> dict[str, Any]:\n",
        "        if \"name\" not in v or \"password\" not in v:\n",
        "            raise ValueError(\"Name and password are required\")\n",
        "        if v[\"name\"].casefold() in v[\"password\"].casefold():\n",
        "            raise ValueError(\"Password cannot contain name\")\n",
        "        if not VALID_PASSWORD_REGEX.match(v[\"password\"]):\n",
        "            raise ValueError(\n",
        "                \"Password is invalid, must contain 8 characters, 1 uppercase, 1 lowercase, 1 number\"\n",
        "            )\n",
        "        v[\"password\"] = hashlib.sha256(v[\"password\"].encode()).hexdigest()\n",
        "        return v"
      ],
      "metadata": {
        "id": "G7DYU5Scf0Kf"
      },
      "execution_count": 7,
      "outputs": []
    },
    {
      "cell_type": "markdown",
      "source": [
        "Criação da função validate e main, essa última contém a definição de vários cenários de testes, iterando sobre cada um e imprimindo o nome do teste e executando a validação"
      ],
      "metadata": {
        "id": "apHzsv5Tgj6r"
      }
    },
    {
      "cell_type": "code",
      "source": [
        "def validate(data: dict[str, Any]) -> None:\n",
        "    try:\n",
        "        user = User.model_validate(data)\n",
        "        print(user)\n",
        "    except ValidationError as e:\n",
        "        print(\"User is invalid:\")\n",
        "        print(e)\n",
        "\n",
        "\n",
        "def main() -> None:\n",
        "    test_data = dict(\n",
        "        good_data={\n",
        "            \"name\": \"Arjan\",\n",
        "            \"email\": \"example@arjancodes.com\",\n",
        "            \"password\": \"Password123\",\n",
        "            \"role\": \"Admin\",\n",
        "        },\n",
        "        bad_role={\n",
        "            \"name\": \"Arjan\",\n",
        "            \"email\": \"example@arjancodes.com\",\n",
        "            \"password\": \"Password123\",\n",
        "            \"role\": \"Programmer\",\n",
        "        },\n",
        "        bad_data={\n",
        "            \"name\": \"Arjan\",\n",
        "            \"email\": \"bad email\",\n",
        "            \"password\": \"bad password\",\n",
        "        },\n",
        "        bad_name={\n",
        "            \"name\": \"Arjan<-_->\",\n",
        "            \"email\": \"example@arjancodes.com\",\n",
        "            \"password\": \"Password123\",\n",
        "        },\n",
        "        duplicate={\n",
        "            \"name\": \"Arjan\",\n",
        "            \"email\": \"example@arjancodes.com\",\n",
        "            \"password\": \"Arjan123\",\n",
        "        },\n",
        "        missing_data={\n",
        "            \"email\": \"<bad data>\",\n",
        "            \"password\": \"<bad data>\",\n",
        "        },\n",
        "    )\n",
        "\n",
        "    for example_name, data in test_data.items():\n",
        "        print(example_name)\n",
        "        validate(data)\n",
        "        print()"
      ],
      "metadata": {
        "id": "PjqOJlzGgMfp"
      },
      "execution_count": 9,
      "outputs": []
    },
    {
      "cell_type": "code",
      "source": [
        "if __name__ == \"__main__\":\n",
        "    main()"
      ],
      "metadata": {
        "colab": {
          "base_uri": "https://localhost:8080/"
        },
        "id": "ruTlPjrNg10W",
        "outputId": "d1bdd576-7c19-45ab-f407-7f4ca231e083"
      },
      "execution_count": 10,
      "outputs": [
        {
          "output_type": "stream",
          "name": "stdout",
          "text": [
            "good_data\n",
            "User is invalid:\n",
            "1 validation error for User\n",
            "role\n",
            "  Input should be 1, 2, 4 or 8 [type=enum, input_value='Admin', input_type=str]\n",
            "    For further information visit https://errors.pydantic.dev/2.10/v/enum\n",
            "\n",
            "bad_role\n",
            "User is invalid:\n",
            "1 validation error for User\n",
            "role\n",
            "  Input should be 1, 2, 4 or 8 [type=enum, input_value='Programmer', input_type=str]\n",
            "    For further information visit https://errors.pydantic.dev/2.10/v/enum\n",
            "\n",
            "bad_data\n",
            "User is invalid:\n",
            "1 validation error for User\n",
            "email\n",
            "  value is not a valid email address: An email address must have an @-sign. [type=value_error, input_value='bad email', input_type=str]\n",
            "\n",
            "bad_name\n",
            "User is invalid:\n",
            "1 validation error for User\n",
            "name\n",
            "  Value error, Name is invalid, must contain only letters and be at least 2 characters long [type=value_error, input_value='Arjan<-_->', input_type=str]\n",
            "    For further information visit https://errors.pydantic.dev/2.10/v/value_error\n",
            "\n",
            "duplicate\n",
            "name='Arjan' email='example@arjancodes.com' password=SecretStr('**********') role=None\n",
            "\n",
            "missing_data\n",
            "User is invalid:\n",
            "2 validation errors for User\n",
            "name\n",
            "  Field required [type=missing, input_value={'email': '<bad data>', 'password': '<bad data>'}, input_type=dict]\n",
            "    For further information visit https://errors.pydantic.dev/2.10/v/missing\n",
            "email\n",
            "  value is not a valid email address: An email address must have an @-sign. [type=value_error, input_value='<bad data>', input_type=str]\n",
            "\n"
          ]
        }
      ]
    }
  ]
}