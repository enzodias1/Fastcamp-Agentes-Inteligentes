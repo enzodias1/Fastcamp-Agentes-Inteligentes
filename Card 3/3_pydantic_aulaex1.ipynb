{
  "nbformat": 4,
  "nbformat_minor": 0,
  "metadata": {
    "colab": {
      "provenance": []
    },
    "kernelspec": {
      "name": "python3",
      "display_name": "Python 3"
    },
    "language_info": {
      "name": "python"
    }
  },
  "cells": [
    {
      "cell_type": "markdown",
      "source": [
        "Importações necessárias e instalações necessárias"
      ],
      "metadata": {
        "id": "MoFEN7FcapwL"
      }
    },
    {
      "cell_type": "code",
      "source": [
        "!pip install pydantic\n",
        "!pip install pydantic[email]"
      ],
      "metadata": {
        "colab": {
          "base_uri": "https://localhost:8080/"
        },
        "id": "YrJTPinebhbH",
        "outputId": "023bf047-7c15-4367-a850-8518be958f23"
      },
      "execution_count": 8,
      "outputs": [
        {
          "output_type": "stream",
          "name": "stdout",
          "text": [
            "Requirement already satisfied: pydantic in /usr/local/lib/python3.11/dist-packages (2.10.6)\n",
            "Requirement already satisfied: annotated-types>=0.6.0 in /usr/local/lib/python3.11/dist-packages (from pydantic) (0.7.0)\n",
            "Requirement already satisfied: pydantic-core==2.27.2 in /usr/local/lib/python3.11/dist-packages (from pydantic) (2.27.2)\n",
            "Requirement already satisfied: typing-extensions>=4.12.2 in /usr/local/lib/python3.11/dist-packages (from pydantic) (4.12.2)\n",
            "Requirement already satisfied: pydantic[email] in /usr/local/lib/python3.11/dist-packages (2.10.6)\n",
            "Requirement already satisfied: annotated-types>=0.6.0 in /usr/local/lib/python3.11/dist-packages (from pydantic[email]) (0.7.0)\n",
            "Requirement already satisfied: pydantic-core==2.27.2 in /usr/local/lib/python3.11/dist-packages (from pydantic[email]) (2.27.2)\n",
            "Requirement already satisfied: typing-extensions>=4.12.2 in /usr/local/lib/python3.11/dist-packages (from pydantic[email]) (4.12.2)\n",
            "Requirement already satisfied: email-validator>=2.0.0 in /usr/local/lib/python3.11/dist-packages (from pydantic[email]) (2.2.0)\n",
            "Requirement already satisfied: dnspython>=2.0.0 in /usr/local/lib/python3.11/dist-packages (from email-validator>=2.0.0->pydantic[email]) (2.7.0)\n",
            "Requirement already satisfied: idna>=2.0.0 in /usr/local/lib/python3.11/dist-packages (from email-validator>=2.0.0->pydantic[email]) (3.10)\n"
          ]
        }
      ]
    },
    {
      "cell_type": "code",
      "execution_count": 5,
      "metadata": {
        "id": "h9SNLbS3ZW9h"
      },
      "outputs": [],
      "source": [
        "from enum import auto, IntFlag\n",
        "from typing import Any\n",
        "\n",
        "from pydantic import (\n",
        "    BaseModel,\n",
        "    EmailStr,\n",
        "    Field,\n",
        "    SecretStr,\n",
        "    ValidationError,\n",
        ")"
      ]
    },
    {
      "cell_type": "markdown",
      "source": [
        "Criação da classe Role, que define os papéis de usuário\n",
        "Author, Editor e Developer recebem valores automáticos, enquanto Admin é a combinação das 3"
      ],
      "metadata": {
        "id": "lPIFReq0bKYu"
      }
    },
    {
      "cell_type": "code",
      "source": [
        "class Role(IntFlag):\n",
        "    Author = auto()\n",
        "    Editor = auto()\n",
        "    Developer = auto()\n",
        "    Admin = Author | Editor | Developer"
      ],
      "metadata": {
        "id": "e_FKlaLWa6PF"
      },
      "execution_count": 6,
      "outputs": []
    },
    {
      "cell_type": "markdown",
      "source": [
        "Criação da classe User, que define um modelo de usuário com:\n",
        "name, uma string simples, utilizando Arjan como exemplo\n",
        "email, um campo validado como email\n",
        "password, um campo que será ocultado em logs, visto que é algo sensível\n",
        "e role (o padrão é none). Cada um utiliza Field() para adicionar metadados como exemplos"
      ],
      "metadata": {
        "id": "1QA7fnIMbnPa"
      }
    },
    {
      "cell_type": "code",
      "source": [
        "class User(BaseModel):\n",
        "    name: str = Field(examples=[\"Arjan\"])\n",
        "    email: EmailStr = Field(\n",
        "        examples=[\"example@arjancodes.com\"],\n",
        "        description=\"The email address of the user\",\n",
        "        frozen=True,\n",
        "    )\n",
        "    password: SecretStr = Field(\n",
        "        examples=[\"Password123\"], description=\"The password of the user\"\n",
        "    )\n",
        "    role: Role = Field(default=None, description=\"The role of the user\")"
      ],
      "metadata": {
        "id": "N_N8fFO1bbxx"
      },
      "execution_count": 7,
      "outputs": []
    },
    {
      "cell_type": "markdown",
      "source": [
        "Criação da função validate, que recebe um dicionário de dados e tenta validá-los, se der certo, imprime o objeto do usuário e se falhar itera sobre cada erro específico"
      ],
      "metadata": {
        "id": "VA9hHXkYchLo"
      }
    },
    {
      "cell_type": "code",
      "source": [
        "def validate(data: dict[str, Any]) -> None:\n",
        "    try:\n",
        "        user = User.model_validate(data)\n",
        "        print(user)\n",
        "    except ValidationError as e:\n",
        "        print(\"User is invalid\")\n",
        "        for error in e.errors():\n",
        "            print(error)"
      ],
      "metadata": {
        "id": "aitrp0MhcfO6"
      },
      "execution_count": 9,
      "outputs": []
    },
    {
      "cell_type": "markdown",
      "source": [
        "Agora a criação da função main, que define um exemplo de dados válidos com nome, email e senha e também exemplos de dados inválidos com email e senhas \"errados\" e chama a função validate com ambos conjuntos"
      ],
      "metadata": {
        "id": "JgQxLhzacyTi"
      }
    },
    {
      "cell_type": "code",
      "source": [
        "def main() -> None:\n",
        "    good_data = {\n",
        "        \"name\": \"Arjan\",\n",
        "        \"email\": \"example@arjancodes.com\",\n",
        "        \"password\": \"Password123\",\n",
        "    }\n",
        "    bad_data = {\"email\": \"<bad data>\", \"password\": \"<bad data>\"}\n",
        "\n",
        "    validate(good_data)\n",
        "    validate(bad_data)"
      ],
      "metadata": {
        "id": "Ejk35NXjcxkc"
      },
      "execution_count": 10,
      "outputs": []
    },
    {
      "cell_type": "code",
      "source": [
        "if __name__ == \"__main__\":\n",
        "    main()"
      ],
      "metadata": {
        "colab": {
          "base_uri": "https://localhost:8080/"
        },
        "id": "unWOTJp4dCAk",
        "outputId": "71615bfc-1d89-42b0-cd8e-1a1c41d72a75"
      },
      "execution_count": 11,
      "outputs": [
        {
          "output_type": "stream",
          "name": "stdout",
          "text": [
            "name='Arjan' email='example@arjancodes.com' password=SecretStr('**********') role=None\n",
            "User is invalid\n",
            "{'type': 'missing', 'loc': ('name',), 'msg': 'Field required', 'input': {'email': '<bad data>', 'password': '<bad data>'}, 'url': 'https://errors.pydantic.dev/2.10/v/missing'}\n",
            "{'type': 'value_error', 'loc': ('email',), 'msg': 'value is not a valid email address: An email address must have an @-sign.', 'input': '<bad data>', 'ctx': {'reason': 'An email address must have an @-sign.'}}\n"
          ]
        }
      ]
    }
  ]
}