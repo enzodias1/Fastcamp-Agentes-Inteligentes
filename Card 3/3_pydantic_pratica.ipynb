{
  "nbformat": 4,
  "nbformat_minor": 0,
  "metadata": {
    "colab": {
      "provenance": []
    },
    "kernelspec": {
      "name": "python3",
      "display_name": "Python 3"
    },
    "language_info": {
      "name": "python"
    }
  },
  "cells": [
    {
      "cell_type": "markdown",
      "source": [
        "Instalações e importações necessárias\n",
        "\n"
      ],
      "metadata": {
        "id": "hMR9lVhc4hTY"
      }
    },
    {
      "cell_type": "code",
      "source": [
        "!pip install pydantic\n",
        "!pip install pydantic[email]"
      ],
      "metadata": {
        "colab": {
          "base_uri": "https://localhost:8080/"
        },
        "id": "eEWBAOdW5TdJ",
        "outputId": "58a4ba98-031b-454a-c56c-a2091d5b43ec"
      },
      "execution_count": 203,
      "outputs": [
        {
          "output_type": "stream",
          "name": "stdout",
          "text": [
            "Requirement already satisfied: pydantic in /usr/local/lib/python3.11/dist-packages (2.10.6)\n",
            "Requirement already satisfied: annotated-types>=0.6.0 in /usr/local/lib/python3.11/dist-packages (from pydantic) (0.7.0)\n",
            "Requirement already satisfied: pydantic-core==2.27.2 in /usr/local/lib/python3.11/dist-packages (from pydantic) (2.27.2)\n",
            "Requirement already satisfied: typing-extensions>=4.12.2 in /usr/local/lib/python3.11/dist-packages (from pydantic) (4.12.2)\n",
            "Requirement already satisfied: pydantic[email] in /usr/local/lib/python3.11/dist-packages (2.10.6)\n",
            "Requirement already satisfied: annotated-types>=0.6.0 in /usr/local/lib/python3.11/dist-packages (from pydantic[email]) (0.7.0)\n",
            "Requirement already satisfied: pydantic-core==2.27.2 in /usr/local/lib/python3.11/dist-packages (from pydantic[email]) (2.27.2)\n",
            "Requirement already satisfied: typing-extensions>=4.12.2 in /usr/local/lib/python3.11/dist-packages (from pydantic[email]) (4.12.2)\n",
            "Requirement already satisfied: email-validator>=2.0.0 in /usr/local/lib/python3.11/dist-packages (from pydantic[email]) (2.2.0)\n",
            "Requirement already satisfied: dnspython>=2.0.0 in /usr/local/lib/python3.11/dist-packages (from email-validator>=2.0.0->pydantic[email]) (2.7.0)\n",
            "Requirement already satisfied: idna>=2.0.0 in /usr/local/lib/python3.11/dist-packages (from email-validator>=2.0.0->pydantic[email]) (3.10)\n"
          ]
        }
      ]
    },
    {
      "cell_type": "code",
      "execution_count": 204,
      "metadata": {
        "id": "qD22dnUm3DZn"
      },
      "outputs": [],
      "source": [
        "from datetime import datetime, timedelta\n",
        "from enum import IntEnum\n",
        "from typing import List, Optional, Dict, Any, ClassVar\n",
        "from uuid import UUID, uuid4\n",
        "import re\n",
        "import json\n",
        "\n",
        "from pydantic import (\n",
        "    BaseModel,\n",
        "    Field,\n",
        "    EmailStr,\n",
        "    field_validator,\n",
        "    model_validator,\n",
        "    field_serializer,\n",
        "    ConfigDict,\n",
        "    HttpUrl,\n",
        "    RootModel\n",
        ")"
      ]
    },
    {
      "cell_type": "markdown",
      "source": [
        "Criação de um REGEX para validar números ISBN"
      ],
      "metadata": {
        "id": "ESLHgUKp5b4C"
      }
    },
    {
      "cell_type": "code",
      "source": [
        "ISBN_REGEX = re.compile(\n",
        "    r\"^(97[89])?\\d{1,5}[- ]?\\d{1,7}[- ]?\\d{1,7}[- ]?\\d{1,7}[- ]?[0-9X]$\"\n",
        ")"
      ],
      "metadata": {
        "id": "uEl_0VPx5YsG"
      },
      "execution_count": 205,
      "outputs": []
    },
    {
      "cell_type": "markdown",
      "source": [
        "Criação das classes BookStatus, que definem os possíveis estados de um livro na biblioteca e BookGenre, que são as categorias de gêneros de livros, cada um com um valor diferente"
      ],
      "metadata": {
        "id": "GoTY2Sry5rjF"
      }
    },
    {
      "cell_type": "code",
      "source": [
        "class BookStatus(IntEnum):\n",
        "    AVAILABLE = 1\n",
        "    BORROWED = 2\n",
        "    MAINTENANCE = 3\n",
        "    LOST = 4\n",
        "\n",
        "class BookGenre(IntEnum):\n",
        "    FICTION = 1\n",
        "    NON_FICTION = 2\n",
        "    SCIENCE = 3\n",
        "    TECHNOLOGY = 4\n",
        "    HISTORY = 5\n",
        "    BIOGRAPHY = 6\n",
        "    FANTASY = 7\n",
        "    SCIENCE_FICTION = 8\n",
        "    MYSTERY = 9\n",
        "    THRILLER = 10\n",
        "    ROMANCE = 11\n",
        "    HORROR = 12\n",
        "    OTHER = 99"
      ],
      "metadata": {
        "id": "hIdqE4Bu5gz9"
      },
      "execution_count": 206,
      "outputs": []
    },
    {
      "cell_type": "markdown",
      "source": [
        "Criação da classe Author, com características como id, nome, ano de nascimento, nacionalidade, biografia e website\n",
        "\n",
        "o field_serializer converte o uuid para string quando o objeto é serializado para json\n",
        "\n",
        "ja o field_validator verifica se o ano de nascimento não é um ano acima do atual"
      ],
      "metadata": {
        "id": "3BbMoN2U55sX"
      }
    },
    {
      "cell_type": "code",
      "source": [
        "class Author(BaseModel):\n",
        "    model_config = ConfigDict(extra=\"forbid\")\n",
        "\n",
        "    id: UUID = Field(default_factory=uuid4)\n",
        "    name: str = Field(..., min_length=2, max_length=100)\n",
        "    birth_year: Optional[int] = Field(None, ge=1000, le=datetime.now().year)\n",
        "    nationality: Optional[str] = Field(None, min_length=2, max_length=50)\n",
        "    biography: Optional[str] = Field(None, max_length=2000)\n",
        "    website: Optional[HttpUrl] = None\n",
        "\n",
        "    @field_serializer(\"id\", when_used=\"json\")\n",
        "    def serialize_id(self, id: UUID) -> str:\n",
        "        return str(id)\n",
        "\n",
        "    @field_validator(\"birth_year\")\n",
        "    @classmethod\n",
        "    def validate_birth_year(cls, value: Optional[int]) -> Optional[int]:\n",
        "        if value is not None and value > datetime.now().year:\n",
        "            raise ValueError(\"Birth year cannot be in the future\")\n",
        "        return value"
      ],
      "metadata": {
        "id": "3Cy2BQ3452xt"
      },
      "execution_count": 207,
      "outputs": []
    },
    {
      "cell_type": "markdown",
      "source": [
        "Criação da Classe Book, tendo atributos como título, ISBN, autores, data de publicação, generos, páginas\n",
        "\n",
        "e também o authors_map, uma variável de classe que funciona de maneira semelhante a um banco de dados\n",
        "\n",
        "o field_serializer converte tanto uuid individuais tanto listas de uuids para string quando o objeto é serializado para json\n",
        "\n",
        "o field_validator isbn verifica se o ISBN está em um formato válido\n",
        "\n",
        "o model_validator after verifica se todos os autores referenciados no livro existem no authors_map (especie de banco de dados)\n",
        "\n",
        "e o get_authors retorna os objetos author completos a partir dos ids armazenados"
      ],
      "metadata": {
        "id": "wgAnpEY16pot"
      }
    },
    {
      "cell_type": "code",
      "source": [
        "class Book(BaseModel):\n",
        "    model_config = ConfigDict(extra=\"forbid\")\n",
        "\n",
        "    id: UUID = Field(default_factory=uuid4)\n",
        "    title: str = Field(..., min_length=1, max_length=200)\n",
        "    isbn: str = Field(..., description=\"ISBN-10 or ISBN-13 format\")\n",
        "    authors: List[UUID] = Field(..., min_items=1, description=\"List of author IDs\")\n",
        "    publication_year: int = Field(..., ge=1000, le=datetime.now().year + 2)\n",
        "    genres: List[BookGenre] = Field(..., min_items=1, max_items=3)\n",
        "    description: Optional[str] = Field(None, max_length=5000)\n",
        "    pages: Optional[int] = Field(None, gt=0)\n",
        "    status: BookStatus = Field(default=BookStatus.AVAILABLE)\n",
        "    added_at: datetime = Field(default_factory=datetime.now)\n",
        "\n",
        "    _authors_map: ClassVar[Dict[UUID, Author]] = {}\n",
        "\n",
        "    @field_serializer(\"id\", \"authors\", when_used=\"json\")\n",
        "    def serialize_uuid(self, v: UUID | List[UUID]) -> str | List[str]:\n",
        "        if isinstance(v, list):\n",
        "            return [str(item) for item in v]\n",
        "        return str(v)\n",
        "\n",
        "    @field_validator(\"isbn\")\n",
        "    @classmethod\n",
        "    def validate_isbn(cls, v: str) -> str:\n",
        "        clean_isbn = re.sub(r\"[- ]\", \"\", v)\n",
        "        if not ISBN_REGEX.match(v):\n",
        "            raise ValueError(\"Invalid ISBN format\")\n",
        "        return clean_isbn\n",
        "\n",
        "    @model_validator(mode=\"after\")\n",
        "    def validate_authors_exist(self) -> \"Book\":\n",
        "        for author_id in self.authors:\n",
        "            if author_id not in self._authors_map:\n",
        "                raise ValueError(f\"Author with ID {author_id} does not exist\")\n",
        "        return self\n",
        "\n",
        "    def get_authors(self) -> List[Author]:\n",
        "        return [self._authors_map[author_id] for author_id in self.authors]"
      ],
      "metadata": {
        "id": "HKLEbc856UZv"
      },
      "execution_count": 208,
      "outputs": []
    },
    {
      "cell_type": "markdown",
      "source": [
        "criação da classe LibraryUser, que representa um usuário da biblioteca, possuindo email, um número de membro e se a conta está ativa ou não\n",
        "\n",
        "enquanto o field_serializer converte uuid para string\n",
        "\n",
        "o model_validator before define automaticamente a data de validade da associação para 1 ano após a data de ingresso caso não seja fornecida\n",
        "\n",
        "enquanto o model_validator after garante que a data de expiração não seja anterior a data de ingresso"
      ],
      "metadata": {
        "id": "L0eKj9FV7tAb"
      }
    },
    {
      "cell_type": "code",
      "source": [
        "class LibraryUser(BaseModel):\n",
        "    model_config = ConfigDict(extra=\"forbid\")\n",
        "\n",
        "    id: UUID = Field(default_factory=uuid4)\n",
        "    name: str = Field(..., min_length=2, max_length=100)\n",
        "    email: EmailStr = Field(...)\n",
        "    membership_number: str = Field(..., pattern=r\"^LIB-\\d{6}$\")\n",
        "    joined_date: datetime = Field(default_factory=datetime.now)\n",
        "    membership_valid_until: datetime = Field(...)\n",
        "    is_active: bool = Field(default=True)\n",
        "\n",
        "    @field_serializer(\"id\", when_used=\"json\")\n",
        "    def serialize_id(self, id: UUID) -> str:\n",
        "        return str(id)\n",
        "\n",
        "    @model_validator(mode=\"before\")\n",
        "    @classmethod\n",
        "    def set_membership_period(cls, data: Dict[str, Any]) -> Dict[str, Any]:\n",
        "        if \"membership_valid_until\" not in data and \"joined_date\" in data:\n",
        "            data[\"membership_valid_until\"] = data[\"joined_date\"] + timedelta(days=365)\n",
        "        elif \"membership_valid_until\" not in data:\n",
        "            joined = datetime.now()\n",
        "            data[\"joined_date\"] = joined\n",
        "            data[\"membership_valid_until\"] = joined + timedelta(days=365)\n",
        "        return data\n",
        "\n",
        "    @model_validator(mode=\"after\")\n",
        "    def validate_dates(self) -> \"LibraryUser\":\n",
        "        if self.membership_valid_until < self.joined_date:\n",
        "            raise ValueError(\"Membership expiration cannot be earlier than join date\")\n",
        "        return self"
      ],
      "metadata": {
        "id": "EXbcW0_L7g4V"
      },
      "execution_count": 209,
      "outputs": []
    },
    {
      "cell_type": "markdown",
      "source": [
        "criação da classe BookLoan, que funciona como um empréstimo de livro feito pela biblioteca, contendo ids do livro e do usuário, data de empréstimo e devolução, se está atrasado ou não e também um mapa para vermos livros e usuários disponíveis\n",
        "\n",
        "enquanto o field_serializer converte uuids para strings durante a serialização\n",
        "\n",
        "o modelo_validator before define a data de devolução para 14 dias após o empréstimo caso não for fornecida\n",
        "\n",
        "enquanto o modelo_validator after verifica muitas coisas para definir o empréstimo como válido, como por exemplo se o livro e usuário existem, se o livro está disponível e o usuário ativo sem assosciação expirada e também se as datas são válidas, além do status de atraso\n",
        "\n",
        "e o def_complete_return marca um livro como devolvido e atualiza o seu status"
      ],
      "metadata": {
        "id": "pw_3UjUL8ceY"
      }
    },
    {
      "cell_type": "code",
      "source": [
        "class BookLoan(BaseModel):\n",
        "    model_config = ConfigDict(extra=\"forbid\")\n",
        "\n",
        "    id: UUID = Field(default_factory=uuid4)\n",
        "    book_id: UUID = Field(...)\n",
        "    user_id: UUID = Field(...)\n",
        "    loan_date: datetime = Field(default_factory=datetime.now)\n",
        "    due_date: datetime = Field(...)\n",
        "    return_date: Optional[datetime] = None\n",
        "    is_overdue: bool = Field(default=False)\n",
        "\n",
        "    _books_map: ClassVar[Dict[UUID, Book]] = {}\n",
        "    _users_map: ClassVar[Dict[UUID, LibraryUser]] = {}\n",
        "\n",
        "    @field_serializer(\"id\", \"book_id\", \"user_id\", when_used=\"json\")\n",
        "    def serialize_uuid(self, v: UUID) -> str:\n",
        "        return str(v)\n",
        "\n",
        "    @model_validator(mode=\"before\")\n",
        "    @classmethod\n",
        "    def set_due_date(cls, data: Dict[str, Any]) -> Dict[str, Any]:\n",
        "        if \"due_date\" not in data and \"loan_date\" in data:\n",
        "            data[\"due_date\"] = data[\"loan_date\"] + timedelta(days=14)\n",
        "        elif \"due_date\" not in data:\n",
        "            data[\"loan_date\"] = datetime.now()\n",
        "            data[\"due_date\"] = data[\"loan_date\"] + timedelta(days=14)\n",
        "        return data\n",
        "\n",
        "    @model_validator(mode=\"after\")\n",
        "    def validate_loan(self) -> \"BookLoan\":\n",
        "        if self.book_id not in self._books_map:\n",
        "            raise ValueError(f\"Book with ID {self.book_id} does not exist\")\n",
        "        if self.user_id not in self._users_map:\n",
        "            raise ValueError(f\"User with ID {self.user_id} does not exist\")\n",
        "\n",
        "        book = self._books_map[self.book_id]\n",
        "        if book.status != BookStatus.AVAILABLE and self.return_date is None:\n",
        "            raise ValueError(f\"Book is not available for loan (current status: {book.status.name})\")\n",
        "\n",
        "        user = self._users_map[self.user_id]\n",
        "        if not user.is_active:\n",
        "            raise ValueError(f\"User {user.name} is not active\")\n",
        "        if user.membership_valid_until < datetime.now():\n",
        "            raise ValueError(f\"User {user.name}'s membership has expired\")\n",
        "\n",
        "        if self.due_date < self.loan_date:\n",
        "            raise ValueError(\"Due date cannot be earlier than loan date\")\n",
        "        if self.return_date and self.return_date < self.loan_date:\n",
        "            raise ValueError(\"Return date cannot be earlier than loan date\")\n",
        "\n",
        "        if self.return_date is None and datetime.now() > self.due_date:\n",
        "            self.is_overdue = True\n",
        "\n",
        "        return self\n",
        "\n",
        "    def complete_return(self) -> None:\n",
        "        self.return_date = datetime.now()\n",
        "        self.is_overdue = False\n",
        "\n",
        "        book = self._books_map.get(self.book_id)\n",
        "        if book:\n",
        "            book.status = BookStatus.AVAILABLE"
      ],
      "metadata": {
        "id": "VZZVfube8UER"
      },
      "execution_count": 210,
      "outputs": []
    },
    {
      "cell_type": "markdown",
      "source": [
        "hora dos testes"
      ],
      "metadata": {
        "id": "D3zke6q59rYL"
      }
    },
    {
      "cell_type": "markdown",
      "source": [
        "comentarei ao decorrer do código e não aqui em cima como de costume pois devido ao tamanho do código ficará de melhor entendimento os comentários ao decorrer das células"
      ],
      "metadata": {
        "id": "gdQV9lEA9z67"
      }
    },
    {
      "cell_type": "code",
      "source": [
        "def test_library_system():\n",
        "  #criação de dois autores\n",
        "    author1 = Author(\n",
        "        name=\"Rick Riordan\",\n",
        "        birth_year=1964,\n",
        "        nationality=\"North-American\",\n",
        "        biography=\"American author and schoolteacher\"\n",
        "    )\n",
        "    author2 = Author(\n",
        "        name=\"J.K. Rowling\",\n",
        "        birth_year=1965,\n",
        "        nationality=\"British\",\n",
        "        website=\"https://www.jkrowling.com\"\n",
        "    )\n",
        "    #adicionando os autores no \"banco de dados\"\n",
        "    Book._authors_map[author1.id] = author1\n",
        "    Book._authors_map[author2.id] = author2\n",
        "\n",
        "  #criação de dois livros, cada um de um autor diferente\n",
        "    book1 = Book(\n",
        "        title=\"The Lightning Thief\",\n",
        "        isbn=\"978-0786838653\",\n",
        "        authors=[author1.id],\n",
        "        publication_year=2005,\n",
        "        description=\"The Lightning Thief follows the story of young Percy Jackson, a troubled 12-year-old boy with a secret unknown even to himself\",\n",
        "        genres=[BookGenre.SCIENCE_FICTION], #\"mudei\" o genero desse para não ficar igual ao do segundo livro\n",
        "        pages=384\n",
        "    )\n",
        "\n",
        "    book2 = Book(\n",
        "        title=\"Harry Potter and the Philosopher's Stone\",\n",
        "        isbn=\"978-0747532699\",\n",
        "        authors=[author2.id],\n",
        "        publication_year=1997,\n",
        "        genres=[BookGenre.FANTASY, BookGenre.FICTION],\n",
        "        pages=223\n",
        "    )\n",
        "\n",
        "    #adicionando os livros ao \"banco de dados\"\n",
        "    BookLoan._books_map[book1.id] = book1\n",
        "    BookLoan._books_map[book2.id] = book2\n",
        "\n",
        "  #criação de dois usuários\n",
        "    user1 = LibraryUser(\n",
        "        name=\"Enzo Rodrigues\",\n",
        "        email=\"enzo.rodrigues@example.com\",\n",
        "        membership_number=\"LIB-123456\",\n",
        "        joined_date=datetime.now() - timedelta(days=30)\n",
        "    )\n",
        "\n",
        "    user2 = LibraryUser(\n",
        "        name=\"Thiago Naves\",\n",
        "        email=\"thiago.naves@example.com\",\n",
        "        membership_number=\"LIB-654321\",\n",
        "        joined_date=datetime.now() - timedelta(days=60),\n",
        "        membership_valid_until=datetime.now() - timedelta(days=10)  #associação expirada para fim de testes\n",
        "    )\n",
        "\n",
        "    #adicionando os usuários ao \"banco de dados\"\n",
        "    BookLoan._users_map[user1.id] = user1\n",
        "    BookLoan._users_map[user2.id] = user2\n",
        "\n",
        "    #criando empréstimos\n",
        "    loan1 = BookLoan(\n",
        "        book_id=book1.id,\n",
        "        user_id=user1.id\n",
        "    )\n",
        "\n",
        "    #esse empréstimo tem que falhar porque a associação desse usuário expirou\n",
        "    try:\n",
        "        loan2 = BookLoan(\n",
        "            book_id=book2.id,\n",
        "            user_id=user2.id\n",
        "        )\n",
        "        print(\"ERROR: Loan to user with expired membership was created!\")\n",
        "    except ValueError as e:\n",
        "        print(f\"Correct error raised: {e}\")\n",
        "\n",
        "    #atualizar status do livro emprestado\n",
        "    book1.status = BookStatus.BORROWED\n",
        "\n",
        "    #tentando emprestar um livro que já está emprestado\n",
        "    try:\n",
        "        loan3 = BookLoan(\n",
        "            book_id=book1.id,\n",
        "            user_id=user1.id\n",
        "        )\n",
        "        print(\"ERROR: Loan for an already borrowed book was created!\")\n",
        "    except ValueError as e:\n",
        "        print(f\"Correct error raised: {e}\")\n",
        "\n",
        "    #devpolver livro\n",
        "    loan1.complete_return()\n",
        "    print(f\"Book '{book1.title}' returned successfully. Status: {book1.status.name}\")\n",
        "\n",
        "    #emprestando o livro novamente\n",
        "    book1.status = BookStatus.AVAILABLE  #funciona como um tipo de reset de status\n",
        "    loan4 = BookLoan(\n",
        "        book_id=book1.id,\n",
        "        user_id=user1.id,\n",
        "        due_date=datetime.now() + timedelta(days=7)  #prazo de empréstimo \"personalizado\"\n",
        "    )\n",
        "    print(f\"Book '{book1.title}' borrowed again until {loan4.due_date}\")\n",
        "\n",
        "    #serializando para JSON\n",
        "    class BookList(RootModel):\n",
        "        root: List[Book]\n",
        "\n",
        "    books = BookList(root=[book1, book2])\n",
        "    books_json = books.model_dump_json(indent=2)\n",
        "    print(\"\\nBooks JSON Serialization:\")\n",
        "    print(books_json)\n",
        "\n",
        "    #validação de ISBN inválido\n",
        "    try:\n",
        "        invalid_book = Book(\n",
        "            title=\"Invalid Book\",\n",
        "            isbn=\"123-456\",  #ISBN inválido\n",
        "            authors=[author1.id],\n",
        "            publication_year=2023,\n",
        "            genres=[BookGenre.FICTION]\n",
        "        )\n",
        "        print(\"ERROR: Book with invalid ISBN was created!\")\n",
        "    except ValueError as e:\n",
        "        print(f\"Correct error raised: {e}\")"
      ],
      "metadata": {
        "id": "eiYbIojo-vub"
      },
      "execution_count": 211,
      "outputs": []
    },
    {
      "cell_type": "markdown",
      "source": [
        "\"explicarei\" o output no relatório desse card"
      ],
      "metadata": {
        "id": "HFJKDH3CE4n5"
      }
    },
    {
      "cell_type": "code",
      "source": [
        "if __name__ == \"__main__\":\n",
        "    test_library_system()"
      ],
      "metadata": {
        "colab": {
          "base_uri": "https://localhost:8080/"
        },
        "id": "JhSn_MuKBNGX",
        "outputId": "70d06165-bc68-4460-db7f-3f17cbf5199a"
      },
      "execution_count": 212,
      "outputs": [
        {
          "output_type": "stream",
          "name": "stdout",
          "text": [
            "Correct error raised: 1 validation error for BookLoan\n",
            "  Value error, User Thiago Naves's membership has expired [type=value_error, input_value={'book_id': UUID('6f65a21...26, 11, 57, 41, 326062)}, input_type=dict]\n",
            "    For further information visit https://errors.pydantic.dev/2.10/v/value_error\n",
            "Correct error raised: 1 validation error for BookLoan\n",
            "  Value error, Book is not available for loan (current status: BORROWED) [type=value_error, input_value={'book_id': UUID('cea704b...26, 11, 57, 41, 326234)}, input_type=dict]\n",
            "    For further information visit https://errors.pydantic.dev/2.10/v/value_error\n",
            "Book 'The Lightning Thief' returned successfully. Status: AVAILABLE\n",
            "Book 'The Lightning Thief' borrowed again until 2025-03-19 11:57:41.326409\n",
            "\n",
            "Books JSON Serialization:\n",
            "[\n",
            "  {\n",
            "    \"id\": \"cea704b4-9e6a-4254-8814-e94b7b8b864a\",\n",
            "    \"title\": \"The Lightning Thief\",\n",
            "    \"isbn\": \"9780786838653\",\n",
            "    \"authors\": [\n",
            "      \"f4d2fca4-49ac-44f6-8fb5-05471ee860f3\"\n",
            "    ],\n",
            "    \"publication_year\": 2005,\n",
            "    \"genres\": [\n",
            "      8\n",
            "    ],\n",
            "    \"description\": \"The Lightning Thief follows the story of young Percy Jackson, a troubled 12-year-old boy with a secret unknown even to himself\",\n",
            "    \"pages\": 384,\n",
            "    \"status\": 1,\n",
            "    \"added_at\": \"2025-03-12T11:57:41.324935\"\n",
            "  },\n",
            "  {\n",
            "    \"id\": \"6f65a218-29f6-4227-848e-1bab6f68b871\",\n",
            "    \"title\": \"Harry Potter and the Philosopher's Stone\",\n",
            "    \"isbn\": \"9780747532699\",\n",
            "    \"authors\": [\n",
            "      \"c077a6bf-4c56-4215-b3a9-b919259fd286\"\n",
            "    ],\n",
            "    \"publication_year\": 1997,\n",
            "    \"genres\": [\n",
            "      7,\n",
            "      1\n",
            "    ],\n",
            "    \"description\": null,\n",
            "    \"pages\": 223,\n",
            "    \"status\": 1,\n",
            "    \"added_at\": \"2025-03-12T11:57:41.324972\"\n",
            "  }\n",
            "]\n",
            "ERROR: Book with invalid ISBN was created!\n"
          ]
        }
      ]
    }
  ]
}